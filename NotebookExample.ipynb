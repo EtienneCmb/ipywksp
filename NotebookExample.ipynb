{
 "cells": [
  {
   "cell_type": "markdown",
   "metadata": {},
   "source": [
    "# Import librairies"
   ]
  },
  {
   "cell_type": "code",
   "execution_count": 1,
   "metadata": {
    "collapsed": true
   },
   "outputs": [],
   "source": [
    "import numpy as np\n",
    "from ipywksp import workspace\n",
    "import pandas as pd"
   ]
  },
  {
   "cell_type": "markdown",
   "metadata": {},
   "source": [
    "# Workspace"
   ]
  },
  {
   "cell_type": "markdown",
   "metadata": {},
   "source": [
    "## Define workspace variable"
   ]
  },
  {
   "cell_type": "code",
   "execution_count": 2,
   "metadata": {
    "collapsed": false
   },
   "outputs": [
    {
     "data": {
      "application/javascript": [
       "\n",
       "            var boolPlace = 0;\n",
       "            var wLeft = \"0.2%\";\n",
       "            var wWidth = \"19.3%\";\n",
       "            var wHeight = \"87%\";\n",
       "            var redSmall = \"0.2%\";\n",
       "            var redEnl = \"0.2%\";\n",
       "            \n",
       "        // Usefull variables :\n",
       "        var wPos = $(\"._wkt\").position();\n",
       "        var wWin = $(window).width();\n",
       "        var hWin = $(window).height();\n",
       "        var wBef = $(\"._wkt\").width();\n",
       "        var hBef = $(\"._wkt\").height();\n",
       "\n",
       "        // Detach the main window :\n",
       "        $('div._wkt')\n",
       "            .detach()\n",
       "            .prependTo($('body'))\n",
       "            .css({\n",
       "                'z-index': 999,\n",
       "                'left':wLeft,\n",
       "                'top':\"11%\",\n",
       "                'height': wHeight,\n",
       "                'width': wWidth,\n",
       "                'min-width': \"19.3%\",\n",
       "                'max-width': \"99%\",\n",
       "                'max-height': \"87%\",\n",
       "                'min-height':'3%',\n",
       "                position: 'fixed',\n",
       "                display:\"inline-block\",\n",
       "                'box-shadow': '5px 5px 12px -3px black',\n",
       "                opacity: 1\n",
       "            })\n",
       "            .draggable({\n",
       "        start: function(event, ui) { $(this).css({opacity: 0.1})},\n",
       "        stop: function(event, ui) { $(this).css({opacity: 1})}}).resizable()\n",
       "            .fadeIn(700);\n",
       "        $('div._wka')\n",
       "            .css({'min-width': \"100%\", 'min_height': \"100%\", 'width': \"100%\", 'height': \"100%\", display:\"inline-block\"})\n",
       "\n",
       "        // Close the window :\n",
       "        $( \"#_wkc\" ).attr('title', 'Close')\n",
       "        $( \"#_wkc\" ).click(function() {\n",
       "          $(\"._wkt\").hide(\"blind\", 500);\n",
       "        });\n",
       "\n",
       "        // Reduce window :\n",
       "        $( \"#_wkr\" ).attr('title', 'Reduce')\n",
       "        var tr = 0; // Toggler\n",
       "        $( \"#_wkr\" ).click(function() {\n",
       "            tr = ++tr % 2;\n",
       "            if (tr == 1) {\n",
       "                // Update variables :\n",
       "                wBef = $(\"._wkt\").width();\n",
       "                hBef = $(\"._wkt\").height();\n",
       "                wPos = $(\"._wkt\").position();\n",
       "                // Reduce / Enlarge :\n",
       "                $( \"#_wkr\" ).attr('title', 'Restore')\n",
       "                $(\"._wka\").hide(\"drop\", 400);\n",
       "                $('div._wkt')\n",
       "                    .css({'overflow-y':'', 'overflow-x':''})\n",
       "                    .animate({\n",
       "                    'z-index': 999,\n",
       "                    'left':redSmall,\n",
       "                    'top':\"11%\",\n",
       "                    'min-width': \"1%\",\n",
       "                    'width': \"5%\",\n",
       "                    'height': \"1%\",\n",
       "                    }, 500, \"easeOutCubic\", function() {\n",
       "                    // Animation complete.\n",
       "                    }).resizable(\"destroy\");\n",
       "            } else if (tr == 0) {\n",
       "                $( \"#_wkr\" ).attr('title', 'Reduce')\n",
       "                $('div._wkt')\n",
       "                    .css({'overflow-y':'', 'overflow-x':''})\n",
       "                    .animate({\n",
       "                    'z-index': 999,\n",
       "                    'left':wPos.left,\n",
       "                    'top':wPos.top,\n",
       "                    \"height\":hBef,\n",
       "                    \"width\":wBef,\n",
       "                    'min-width': \"19.3%\"\n",
       "                    }, 500, \"easeOutCubic\", function() {\n",
       "                    // Animation complete.\n",
       "                    }).resizable();\n",
       "                $(\"._wka\").show('slide', 400);\n",
       "            }\n",
       "        });\n",
       "\n",
       "        // Enlarge window :\n",
       "        $( \"#_wke\" ).attr('title', 'Enlarge')\n",
       "        var tw = 0; // Toggler\n",
       "        var leftWi = \"50%\"\n",
       "        var leftHe = \"60%\"\n",
       "        var leftOffset = \"0.2%\"\n",
       "        var enlTitle = \"Restore\"\n",
       "        $( \"#_wke\" ).click(function(e) {\n",
       "            // Update variables :\n",
       "            tr = 0;\n",
       "            tw = ++tw % 2;\n",
       "            if (tw == 1) {\n",
       "                var leftWi = \"99%\"\n",
       "                var leftHe = \"87%\"\n",
       "            } else if (tw == 0) {\n",
       "                var leftWi = \"50%\"\n",
       "                var leftHe = \"60%\"\n",
       "            }\n",
       "            // Manage left offset :\n",
       "            if (boolPlace == 0) {\n",
       "                var leftOffset = \"0.2%\"\n",
       "            } else {\n",
       "                var leftOffset = wWin*(1-parseInt(leftWi)/100)-wWin*0.008\n",
       "            }\n",
       "            $( \"#_wke\" ).attr('title', 'Restore')\n",
       "            $(\"._wka\").show('').fadeIn(1000);\n",
       "            $('div._wkt')\n",
       "                .animate({\n",
       "                'left': leftOffset,\n",
       "                'width': leftWi,\n",
       "                'height': leftHe,\n",
       "                }, 500, \"easeOutExpo\", function() {\n",
       "                // Animation complete.\n",
       "                });\n",
       "        });\n",
       "\n",
       "        // Force to fit to the notebook :\n",
       "        $( \"#_wkf\" ).attr('title', 'Fit to the notebook')\n",
       "        $( \"#_wkf\" ).click(function() {\n",
       "            tr = 0;\n",
       "            $(\"._wka\").show('').fadeIn(1000);\n",
       "            $('div._wkt')\n",
       "                .css({})\n",
       "                .animate({\n",
       "                'z-index': 999,\n",
       "                'left':wLeft,\n",
       "                'top':\"11%\",\n",
       "                'height': wHeight,\n",
       "                'width': wWidth,\n",
       "                }, 500, \"easeOutExpo\", function() {\n",
       "                // Animation complete.\n",
       "                });\n",
       "        });\n",
       "        "
      ],
      "text/plain": [
       "<IPython.core.display.Javascript object>"
      ]
     },
     "metadata": {},
     "output_type": "display_data"
    },
    {
     "data": {
      "application/javascript": [
       "\n",
       "        $('div.wkspTable').css({position: 'absolute', display:\"table-cell\", 'max-height':\"86%\",\n",
       "        'overflow': 'auto', 'height':\"86%\", 'width': \"100%\"})\n",
       "        "
      ],
      "text/plain": [
       "<IPython.core.display.Javascript object>"
      ]
     },
     "metadata": {},
     "output_type": "display_data"
    },
    {
     "data": {
      "application/javascript": [
       "\n",
       "        $('div.wkspTable').css({position: 'absolute', display:\"table-cell\", 'max-height':\"86%\",\n",
       "        'overflow': 'auto', 'height':\"86%\", 'width': \"100%\"})\n",
       "        "
      ],
      "text/plain": [
       "<IPython.core.display.Javascript object>"
      ]
     },
     "metadata": {},
     "output_type": "display_data"
    }
   ],
   "source": [
    "workspace(theme='light') # Define a workspace variable"
   ]
  },
  {
   "cell_type": "markdown",
   "metadata": {},
   "source": [
    "After defining the workspace, every defined variables will be automatically updated to the workspace"
   ]
  },
  {
   "cell_type": "markdown",
   "metadata": {},
   "source": [
    "# Define some variables"
   ]
  },
  {
   "cell_type": "code",
   "execution_count": 3,
   "metadata": {
    "collapsed": false
   },
   "outputs": [
    {
     "data": {
      "application/javascript": [
       "\n",
       "        $('div.wkspTable').css({position: 'absolute', display:\"table-cell\", 'max-height':\"86%\",\n",
       "        'overflow': 'auto', 'height':\"86%\", 'width': \"100%\"})\n",
       "        "
      ],
      "text/plain": [
       "<IPython.core.display.Javascript object>"
      ]
     },
     "metadata": {},
     "output_type": "display_data"
    }
   ],
   "source": [
    "# Define integers and float numbers\n",
    "a1 = 1\n",
    "a2 = 54\n",
    "e = 47.5\n",
    "Z = 48.025"
   ]
  },
  {
   "cell_type": "code",
   "execution_count": 4,
   "metadata": {
    "collapsed": false
   },
   "outputs": [
    {
     "data": {
      "application/javascript": [
       "\n",
       "        $('div.wkspTable').css({position: 'absolute', display:\"table-cell\", 'max-height':\"86%\",\n",
       "        'overflow': 'auto', 'height':\"86%\", 'width': \"100%\"})\n",
       "        "
      ],
      "text/plain": [
       "<IPython.core.display.Javascript object>"
      ]
     },
     "metadata": {},
     "output_type": "display_data"
    }
   ],
   "source": [
    "# Define list and set :\n",
    "li = [1,2,4,8,7,9,11]\n",
    "lit = [1.0, 'ok', [14, 17]]\n",
    "lset = set(li)"
   ]
  },
  {
   "cell_type": "code",
   "execution_count": 5,
   "metadata": {
    "collapsed": false
   },
   "outputs": [
    {
     "data": {
      "application/javascript": [
       "\n",
       "        $('div.wkspTable').css({position: 'absolute', display:\"table-cell\", 'max-height':\"86%\",\n",
       "        'overflow': 'auto', 'height':\"86%\", 'width': \"100%\"})\n",
       "        "
      ],
      "text/plain": [
       "<IPython.core.display.Javascript object>"
      ]
     },
     "metadata": {},
     "output_type": "display_data"
    }
   ],
   "source": [
    "# Define matrix and array :\n",
    "mama = np.random.rand(3, 2)\n",
    "papa = np.matrix(mama)\n",
    "brother = np.ravel(papa)"
   ]
  },
  {
   "cell_type": "code",
   "execution_count": 6,
   "metadata": {
    "collapsed": false
   },
   "outputs": [
    {
     "data": {
      "application/javascript": [
       "\n",
       "        $('div.wkspTable').css({position: 'absolute', display:\"table-cell\", 'max-height':\"86%\",\n",
       "        'overflow': 'auto', 'height':\"86%\", 'width': \"100%\"})\n",
       "        "
      ],
      "text/plain": [
       "<IPython.core.display.Javascript object>"
      ]
     },
     "metadata": {},
     "output_type": "display_data"
    }
   ],
   "source": [
    "# Define dictionnary, dataframe and series :\n",
    "dico = {'mama':[45, 32, 45], 'papa':[78, 74, 45], 'son':[7,7,9]}\n",
    "pdDico = pd.DataFrame(dico)\n",
    "ser = pdDico['son']"
   ]
  }
 ],
 "metadata": {
  "kernelspec": {
   "display_name": "Python 3",
   "language": "python",
   "name": "python3"
  },
  "language_info": {
   "codemirror_mode": {
    "name": "ipython",
    "version": 3
   },
   "file_extension": ".py",
   "mimetype": "text/x-python",
   "name": "python",
   "nbconvert_exporter": "python",
   "pygments_lexer": "ipython3",
   "version": "3.5.1"
  },
  "toc": {
   "toc_cell": true,
   "toc_number_sections": true,
   "toc_threshold": 4,
   "toc_window_display": true
  }
 },
 "nbformat": 4,
 "nbformat_minor": 0
}
