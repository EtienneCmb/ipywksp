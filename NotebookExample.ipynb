{
 "cells": [
  {
   "cell_type": "markdown",
   "metadata": {
    "toc": "true"
   },
   "source": [
    "# Table of Contents\n",
    " <p><div class=\"lev1\"><a href=\"#Import-librairies\"><span class=\"toc-item-num\">1 - </span>Import librairies</a></div><div class=\"lev1\"><a href=\"#Workspace\"><span class=\"toc-item-num\">2 - </span>Workspace</a></div><div class=\"lev2\"><a href=\"#Define-workspace-variable\"><span class=\"toc-item-num\">2.1 - </span>Define workspace variable</a></div><div class=\"lev2\"><a href=\"#Detach-the-workspace-in-a-new-window\"><span class=\"toc-item-num\">2.2 - </span>Detach the workspace in a new window</a></div><div class=\"lev1\"><a href=\"#Define-some-variables\"><span class=\"toc-item-num\">3 - </span>Define some variables</a></div>"
   ]
  },
  {
   "cell_type": "markdown",
   "metadata": {},
   "source": [
    "# Import librairies"
   ]
  },
  {
   "cell_type": "code",
   "execution_count": 1,
   "metadata": {
    "collapsed": true
   },
   "outputs": [],
   "source": [
    "import numpy as np\n",
    "from ipywksp import workspace\n",
    "import pandas as pd"
   ]
  },
  {
   "cell_type": "markdown",
   "metadata": {},
   "source": [
    "# Workspace"
   ]
  },
  {
   "cell_type": "markdown",
   "metadata": {},
   "source": [
    "## Define workspace variable"
   ]
  },
  {
   "cell_type": "code",
   "execution_count": 16,
   "metadata": {
    "collapsed": true
   },
   "outputs": [],
   "source": [
    "wk = workspace() # Define a workspace variable\n",
    "wk               # Display the workspace"
   ]
  },
  {
   "cell_type": "markdown",
   "metadata": {},
   "source": [
    "After defining the workspace, every defined variables will be automatically updated to the workspace"
   ]
  },
  {
   "cell_type": "markdown",
   "metadata": {},
   "source": [
    "## Detach the workspace in a new window"
   ]
  },
  {
   "cell_type": "code",
   "execution_count": 17,
   "metadata": {
    "collapsed": false
   },
   "outputs": [
    {
     "data": {
      "application/javascript": [
       "\n",
       "        $('div.inspector')\n",
       "            .detach()\n",
       "            .prependTo($('body'))\n",
       "            .css({\n",
       "                'z-index': 999,\n",
       "                'left':5,\n",
       "                'top':110,\n",
       "                'min-width': 300,\n",
       "                'width': 370,\n",
       "                position: 'fixed',\n",
       "                'box-shadow': '5px 5px 12px -3px black',\n",
       "                opacity: 0.9\n",
       "            }).draggable().resizable();\n",
       "        "
      ],
      "text/plain": [
       "<IPython.core.display.Javascript object>"
      ]
     },
     "execution_count": 17,
     "metadata": {},
     "output_type": "execute_result"
    }
   ],
   "source": [
    "wk.detached()    # Detach the workspace "
   ]
  },
  {
   "cell_type": "markdown",
   "metadata": {},
   "source": [
    "# Define some variables"
   ]
  },
  {
   "cell_type": "code",
   "execution_count": 18,
   "metadata": {
    "collapsed": true
   },
   "outputs": [],
   "source": [
    "# Define integers and float numbers\n",
    "a1 = 1\n",
    "a2 = 54\n",
    "e = 47.5\n",
    "Z = 48.025"
   ]
  },
  {
   "cell_type": "code",
   "execution_count": 19,
   "metadata": {
    "collapsed": true
   },
   "outputs": [],
   "source": [
    "# Define list and set :\n",
    "li = [1,2,4,8,7,9,11]\n",
    "lit = [1.0, 'ok', [14, 17]]\n",
    "lset = set(li)"
   ]
  },
  {
   "cell_type": "code",
   "execution_count": 20,
   "metadata": {
    "collapsed": true
   },
   "outputs": [],
   "source": [
    "# Define matrix and array :\n",
    "mama = np.random.rand(3, 2)\n",
    "papa = np.matrix(mama)\n",
    "brother = np.ravel(papa)"
   ]
  },
  {
   "cell_type": "code",
   "execution_count": 21,
   "metadata": {
    "collapsed": false
   },
   "outputs": [],
   "source": [
    "# Define dictionnary, dataframe and series :\n",
    "dico = {'mama':[45, 32, 45], 'papa':[78, 74, 45], 'son':[7,7,9]}\n",
    "pdDico = pd.DataFrame(dico)\n",
    "ser = pdDico['son']"
   ]
  }
 ],
 "metadata": {
  "kernelspec": {
   "display_name": "Python 3",
   "language": "python",
   "name": "python3"
  },
  "language_info": {
   "codemirror_mode": {
    "name": "ipython",
    "version": 3
   },
   "file_extension": ".py",
   "mimetype": "text/x-python",
   "name": "python",
   "nbconvert_exporter": "python",
   "pygments_lexer": "ipython3",
   "version": "3.5.1"
  },
  "toc": {
   "toc_cell": true,
   "toc_number_sections": true,
   "toc_threshold": 4,
   "toc_window_display": true
  }
 },
 "nbformat": 4,
 "nbformat_minor": 0
}
